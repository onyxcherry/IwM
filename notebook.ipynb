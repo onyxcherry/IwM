{
 "cells": [
  {
   "cell_type": "code",
   "execution_count": null,
   "metadata": {},
   "outputs": [],
   "source": [
    "from math import pi\n",
    "\n",
    "import matplotlib.pyplot as plt\n",
    "\n",
    "from ct import load_bitmap\n",
    "\n",
    "# filename = \"Kropka.jpg\"\n",
    "# filename = \"Shepp_logan.jpg\"\n",
    "filename = \"SADDLE_PE-large.JPG\"\n",
    "\n",
    "scans_count = 360\n",
    "\n",
    "alfa_step = pi / scans_count\n",
    "\n",
    "detectors_count = 360\n",
    "\n",
    "detectors_angular_aperture = 0.9 * pi\n",
    "\n",
    "has_to_use_sinogram_filter = True\n",
    "has_to_save_intermediate_steps = False\n",
    "has_to_show_intermediate_steps = False\n",
    "\n",
    "image = load_bitmap(filename)\n",
    "plt.imshow(image)\n",
    "image.close()"
   ]
  },
  {
   "cell_type": "code",
   "execution_count": null,
   "metadata": {},
   "outputs": [],
   "source": [
    "from ct import simulateComputedTomographyScan\n",
    "\n",
    "\n",
    "states = simulateComputedTomographyScan(\n",
    "    filename,\n",
    "    scans_count,\n",
    "    alfa_step,\n",
    "    detectors_count,\n",
    "    detectors_angular_aperture,\n",
    "    has_to_use_sinogram_filter,\n",
    "    has_to_save_intermediate_steps,\n",
    "    has_to_show_intermediate_steps,\n",
    ")"
   ]
  },
  {
   "cell_type": "code",
   "execution_count": null,
   "metadata": {},
   "outputs": [],
   "source": [
    "import ipywidgets\n",
    "\n",
    "from ct import showStateAfterScan\n",
    "\n",
    "\n",
    "ipywidgets.interact(\n",
    "    showStateAfterScan,\n",
    "    states=ipywidgets.fixed(states),\n",
    "    scan=ipywidgets.IntSlider(\n",
    "        min=1 if states[-1] != 1 else scans_count, max=scans_count\n",
    "    ),\n",
    ")"
   ]
  },
  {
   "cell_type": "code",
   "execution_count": null,
   "metadata": {},
   "outputs": [],
   "source": [
    "import pydicom\n",
    "\n",
    "from ct import create_dicom_from_image\n",
    "\n",
    "image_data = states[3]\n",
    "dicom_filename = filename.split(\".\")[0] + \".dcm\"\n",
    "create_dicom_from_image(image_data, dicom_filename, \"Example: image description\", \"Patient is healthy\")\n",
    "\n",
    "ds = pydicom.dcmread(dicom_filename)\n",
    "print(ds)"
   ]
  },
  {
   "cell_type": "markdown",
   "metadata": {},
   "source": [
    "TODO\n",
    "\n",
    "https://docs.google.com/presentation/d/1SeYwXUH1SB114OJO8NVovHBeupTIpM4muwNpd7r4pO0/edit#slide=id.gc39bab9b14_1_224\n",
    "\n",
    "\n",
    "2.\n",
    "Należy dokonać prostej analizy statystycznej w oparciu o jedną zdefiniowaną miarę jakości. Np. mając obraz wejściowy i wyjściowy można policzyć błąd średniokwadratowy (po wszystkich pikselach różnicy obrazu wejściowego i wyjściowego). Taka analiza powinna uwzględnić następujące elementy:\n",
    "zmianę błędu średniokwadratowego podczas wykonywania kolejnych iteracji odwrotnej transformaty Radona dla wybranego obrazu,\n",
    "zmianę błędu średniokwadratowego przy zwiększaniu dokładności próbkowania (trzy uprzednio wymienione parametry modelu emiter/detektor), \n",
    "zmianę błędu średniokwadratowy po włączeniu filtrowania. \n",
    "\n",
    "3.\n",
    "Raport\n",
    "https://docs.google.com/document/d/15zb5myHaLJqZUuv3Wv-gWXCP6wZn44s8QhGeW3izCGg/edit?tab=t.0\n"
   ]
  }
 ],
 "metadata": {
  "kernelspec": {
   "display_name": "venv",
   "language": "python",
   "name": "python3"
  },
  "language_info": {
   "codemirror_mode": {
    "name": "ipython",
    "version": 3
   },
   "file_extension": ".py",
   "mimetype": "text/x-python",
   "name": "python",
   "nbconvert_exporter": "python",
   "pygments_lexer": "ipython3",
   "version": "3.12.4"
  }
 },
 "nbformat": 4,
 "nbformat_minor": 2
}
